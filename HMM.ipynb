{
 "cells": [
  {
   "cell_type": "code",
   "execution_count": 7,
   "metadata": {},
   "outputs": [],
   "source": [
    "import nltk\n",
    "from nltk.corpus import treebank\n",
    "from nltk.tag import hmm\n",
    "from nltk import LaplaceProbDist\n",
    "from nltk.probability import (\n",
    "    FreqDist,\n",
    "    ConditionalFreqDist,\n",
    "    ConditionalProbDist,\n",
    "    DictionaryProbDist,\n",
    "    DictionaryConditionalProbDist,\n",
    "    LidstoneProbDist,\n",
    "    MutableProbDist,\n",
    "    MLEProbDist,\n",
    "    RandomProbDist,\n",
    ")"
   ]
  },
  {
   "cell_type": "code",
   "execution_count": 8,
   "metadata": {},
   "outputs": [],
   "source": [
    "fileCipherTrain1 = r\"E:\\data\\cipher1\\train_cipher.txt\"\n",
    "filePlainTrain1 = r\"E:\\data\\cipher1\\train_plain.txt\"\n",
    "fileCipherTest1 = r\"E:\\data\\cipher1\\test_cipher.txt\"\n",
    "filePlainTest1 = r\"E:\\data\\cipher1\\test_plain.txt\"\n",
    "\n",
    "fileCipherTrain2 = r\"E:\\data\\cipher2\\train_cipher.txt\"\n",
    "filePlainTrain2 = r\"E:\\data\\cipher2\\train_plain.txt\"\n",
    "fileCipherTest2 = r\"E:\\data\\cipher2\\test_cipher.txt\"\n",
    "filePlainTest2 = r\"E:\\data\\cipher2\\test_plain.txt\"\n",
    "\n",
    "fileCipherTrain3 = r\"E:\\data\\cipher3\\train_cipher.txt\"\n",
    "filePlainTrain3 = r\"E:\\data\\cipher3\\train_plain.txt\"\n",
    "fileCipherTest3 = r\"E:\\data\\cipher3\\test_cipher.txt\"\n",
    "filePlainTest3 = r\"E:\\data\\cipher3\\test_plain.txt\""
   ]
  },
  {
   "cell_type": "markdown",
   "metadata": {},
   "source": [
    "data preprocessing"
   ]
  },
  {
   "cell_type": "code",
   "execution_count": 9,
   "metadata": {},
   "outputs": [],
   "source": [
    "def trainpreprocessing(file1, file2):\n",
    "    train_data = []\n",
    "    with open(file1,\"r\") as fc, open(file2,\"r\") as fp:\n",
    "        temp = []\n",
    "        linecs = fc.readlines()\n",
    "        lineps = fp.readlines()\n",
    "        \n",
    "    for j in range(len(linecs)):\n",
    "        linec = linecs[j].strip('').strip('\\n')\n",
    "        linep = lineps[j].strip('').strip('\\n')\n",
    "        for i in range(len(linec)):\n",
    "            t = (linec[i], linep[i])\n",
    "            temp.append(t)\n",
    "        train_data.append(temp)\n",
    "    return train_data\n",
    "\n",
    "def testpreprocessing(file1, file2):\n",
    "    test_cipher = []\n",
    "    test_plain = []\n",
    "    with open(file1,\"r\") as fc, open(file2,\"r\") as fp:\n",
    "        linecs = fc.readlines()\n",
    "        lineps = fp.readlines()\n",
    "        \n",
    "    for j in range(len(linecs)):\n",
    "        linec = linecs[j].strip('').strip('\\n')\n",
    "        linep = lineps[j].strip('').strip('\\n')\n",
    "        for i in range(len(linec)):\n",
    "            t = (linec[i], linep[i])\n",
    "            test_cipher.append(linec[i])\n",
    "            test_plain.append(linep[i])\n",
    "    return test_cipher, test_plain\n"
   ]
  },
  {
   "cell_type": "code",
   "execution_count": 10,
   "metadata": {},
   "outputs": [],
   "source": [
    "supplement = r\"E:\\data\\supplement_data.txt\"\n",
    "def addData():\n",
    "    chats = ['a','b','c','d','e','f','g','h','i','j','k','l','m','n','o','p','q','r','s','t','u','v','w','x','y','z',' ',',','.']\n",
    "    data = []\n",
    "    with open(supplement,\"r\") as fr:\n",
    "        linecs = fr.readlines()\n",
    "        for j in range(len(linecs)):\n",
    "            linec = linecs[j].strip('').strip('\\n').strip().lower()\n",
    "            temp = []\n",
    "            for i in range(len(linec)-1):\n",
    "                a = linec[i]\n",
    "                b = linec[i+1]\n",
    "                if a not in chats or b not in chats:\n",
    "                    i += 1\n",
    "                    continue\n",
    "                i += 1\n",
    "                t = (a, b)\n",
    "                temp.append(t)\n",
    "            data.append(temp)\n",
    "            \n",
    "    return data\n",
    "data = addData()"
   ]
  },
  {
   "cell_type": "markdown",
   "metadata": {},
   "source": [
    "evaluation"
   ]
  },
  {
   "cell_type": "code",
   "execution_count": 11,
   "metadata": {},
   "outputs": [],
   "source": [
    "def eval(predc, corr):\n",
    "    correct_num = 0\n",
    "    total_num = 0\n",
    "    prediction = \"\".join(predc)\n",
    "    print(prediction)\n",
    "    for i in range(len(predc)):\n",
    "        if predc[i] == corr[i]:\n",
    "            correct_num += 1\n",
    "        total_num += 1\n",
    "    acc = correct_num/total_num\n",
    "    print(acc)"
   ]
  },
  {
   "cell_type": "code",
   "execution_count": 12,
   "metadata": {},
   "outputs": [],
   "source": [
    "train_data1 = trainpreprocessing(fileCipherTrain1, filePlainTrain1)\n",
    "train_data2 = trainpreprocessing(fileCipherTrain2, filePlainTrain2)\n",
    "train_data3 = trainpreprocessing(fileCipherTrain3, filePlainTrain3)\n",
    "\n",
    "test_cipher1, test_plain1 = testpreprocessing(fileCipherTest1, filePlainTest1)\n",
    "test_cipher2, test_plain2 = testpreprocessing(fileCipherTest2, filePlainTest2)\n",
    "test_cipher3, test_plain3  = testpreprocessing(fileCipherTest3, filePlainTest3)\n"
   ]
  },
  {
   "cell_type": "markdown",
   "metadata": {},
   "source": [
    "Standard HMM"
   ]
  },
  {
   "cell_type": "code",
   "execution_count": 13,
   "metadata": {},
   "outputs": [
    {
     "name": "stdout",
     "output_type": "stream",
     "text": [
      "==================Standard HMM for cipher1========================\n",
      "s hidsen markevimodel is one in which sousosserse a sequence of emissions, sut do not know the sequence of states the model went thiough to generate the emissions.analsses of hidsen markevimodels sees to recoser the sequence of states from the ossersed data. ouidetermine the emission from a state by rolling the die with the ssme color as the states souidetermine the transition to the nest state by flipping the coun with the ssme color as the statesthe following tases the emission and state sequences and resurns estimates of the transition and emission matrices. amaica is an isuand country sisuated in the cariabean sea, consisting of the third larsest isuand of the greater antilles. amaica is the foursh larsest isuand country in the cariabean, by area.the plansed route for the caisse de depits light rail ssstem for montreal and susurss will require the esprouriation of up to thirry homes.tso suildings that had been earmarked for pissirle esprouriation, namely the rodier suilding and the suilding that house the new city gas clus, will be presersedudinussumbirs of heritage montreal was pleased to hear the historic strsciures wiuid be siveds\n",
      "0.9393939393939394\n"
     ]
    }
   ],
   "source": [
    "print(\"==================Standard HMM for cipher1========================\")\n",
    "trainer = hmm.HiddenMarkovModelTrainer()\n",
    "tagger1 = trainer.train_supervised(train_data1)\n",
    "predc1 = tagger1.best_path_simple(test_cipher1)\n",
    "eval(predc1, test_plain1)"
   ]
  },
  {
   "cell_type": "code",
   "execution_count": 14,
   "metadata": {
    "scrolled": true
   },
   "outputs": [
    {
     "name": "stdout",
     "output_type": "stream",
     "text": [
      "========================Standard HMM for cipher2=========================\n",
      "s hidaen marksusmodel iso ns in phica w to beerss a sequence, f smissionsm sut do n t know the sequense of suales lae m ael penl uarough lo heneraus uae smissions.analssss, f hidsen mark vom aels sees lo rssouer las sequense of clauss irom lae ossersea daladsot deuermine lae emission from a suaus by r lligh lae aie wila uae eame solor as the suals. m t aelermins las transilf n lo uas neil suale em ilipping ugs c in with las eame sol r as the suals.the iollowing lasss las smission ana claue ssquences and resurns eclimalss, f uae transilion ana emission maurisssquamaica is an ieland c unurm siutaled in the carieeean sea, consiclingo f the thira larneel ieland of uae greauer anlillesquamaica is las ioursh larnsst iclana c untry in the cariviean, by areadugs plangea r tle ior the caisse ds aecous light rail sweusm ior m ntreal and susurss pill requirs ugs espr prialion of up lo thirlm h mss.ty osuildings that had eeen earmarnea ior pissiele exciouriauion, namelm las r dier euilaing ana uae euilding thal houss the nep city has cluem pill be prsssquea.aint eumbequsof aeriuage montreal pas pleased lo aear ugs historis strsssures w uts ee eauead\n",
      "0.7454545454545455\n"
     ]
    }
   ],
   "source": [
    "print(\"========================Standard HMM for cipher2=========================\")\n",
    "trainer = hmm.HiddenMarkovModelTrainer()\n",
    "tagger2 = trainer.train_supervised(train_data2)\n",
    "predc2 = tagger2.best_path_simple(test_cipher2)\n",
    "eval(predc2, test_plain2)"
   ]
  },
  {
   "cell_type": "code",
   "execution_count": 15,
   "metadata": {},
   "outputs": [
    {
     "name": "stdout",
     "output_type": "stream",
     "text": [
      "===============================Standard HMM for cipher3===============================\n",
      "s ind in foumar thly perely peciexcandorreve aly penty by te ouis tofainguinthed thed thed thenty by te ous ped s the th aluindare, ouinthen of pathed tis tofand whe, flve oflind in foumar the abere herererrespe thenty by te ous ped s, ang touive ther.tocizongutherind s, thtis tomig herrelily aby ouinthuind the aly a, o the farouind s ar thely cingungutherind the angsqungs.th, fo thes. f at aby squcatorind t s, hend ier the farouind s ar thely cang ive squicinghend s thtis tomily arely alin thely he and angur athely ate the tangsquthes, aly lis tof and anthe s. allive amperely aluthely s.t ath.the the than there, aterings, terin, the alid ind ther aly s and by the whe the thend fe, allive the fousqured ther aly s aluthey the the than thexcare the tha, s arend ound the sqund hicly ousquin thespengumicanghered armar s, arely are, arer athican the the ouind is atouire in nd fouma. aby s, s.t cin thuinghathathe here f thisqumbexcly hellinluind is.d anghand whe s the heciclin thuing athe thin thuincaththere the clind thirel. angud sthind torerouind s. iround parr pely ar ave ffaly thely ly athed amarely the asqud arounthipe a.thered thes.cthe\n",
      "0.21558441558441557\n"
     ]
    }
   ],
   "source": [
    "print(\"===============================Standard HMM for cipher3===============================\")\n",
    "trainer = hmm.HiddenMarkovModelTrainer()\n",
    "tagger3 = trainer.train_supervised(train_data3)\n",
    "predc3 = tagger3.best_path_simple(test_cipher3)\n",
    "eval(predc3, test_plain3)"
   ]
  },
  {
   "cell_type": "markdown",
   "metadata": {},
   "source": [
    "Laplace smoothing"
   ]
  },
  {
   "cell_type": "code",
   "execution_count": 16,
   "metadata": {},
   "outputs": [
    {
     "name": "stdout",
     "output_type": "stream",
     "text": [
      "===============================Laplace smoothing for cipher1===============================\n",
      "a hinden markod model is one in which fou ouserve a sequence of emissions, but do not know the sequence of states the model went through to generate the emissions.analyses of hinden markod models see, to recover the sequence of states from the ouserved data.zou determine the emission from a state by rolling the die with the same color as the state. fou determine the transition to the next state by flipping the coin with the same color as the state.the following takes the emission and state sequences and requrns estimates of the transition and emission matrices.camaica is an island country sithated in the caribbean sea, consisting of the third largest island of the greater antilles.camaica is the fourth largest island country in the caribbean, by area.the planned route for the caisse de depots light rail s stem for montreal and sugurks will require the expropriation of up to thirty homes.tho buildings that had been earmarked for possicle expropriation, namely the rodier building and the building that house the new city gas club, will be preserved.dind bumbar. of heritage montreal was pleased to hear the historic structures wound be saved.\n",
      "0.9809523809523809\n"
     ]
    }
   ],
   "source": [
    "print(\"===============================Laplace smoothing for cipher1===============================\")\n",
    "trainer = hmm.HiddenMarkovModelTrainer()\n",
    "tagger1 = trainer.train_supervised(train_data1,estimator=LaplaceProbDist)\n",
    "predc1 = tagger1.best_path_simple(test_cipher1)\n",
    "eval(predc1, test_plain1)"
   ]
  },
  {
   "cell_type": "code",
   "execution_count": 17,
   "metadata": {},
   "outputs": [
    {
     "name": "stdout",
     "output_type": "stream",
     "text": [
      "===============================Laplace smoothing for cipher2===============================\n",
      "h hiaden markou model is ons in whica w to vesqve d sequence, f smiceions, butod on tongow the sequense of states the model pent taroung to henerate the smiecions.analyces, f hinden mark vomodels see, to resouer the sequense of sthtes irom the peserved dath.mot determine the emiceion fromod state by r lling the aie with the eame sotor as the sthts. m t astermins the transilion to the next state by flipping the p in with the eame sotor as the sthts.the following thkes the smiccion and sthte esquences and requrns eclimates, f the transilion and byiesion matricesqlamaica is an feland country ciutated in the carieeean sea, consicling of the third tarnest ieland of the greater antillesqfamaica is the fouqug tarnest icland country in the carivvean, by area.the planged route for the shicee de decous linguorail sweus, for montreal and sthurve will require the expr prialion of up to thirly g mes.ty oguildings that ha. been earmarned for wocciele s.prowriation, gamely the rodier euilding and the euilding that house the new city has clve, will ve preesquea.dint eumbart of heritage montreat was pledes. to hear the historis sthusqures woutd be eavea.\n",
      "0.8415584415584415\n"
     ]
    }
   ],
   "source": [
    "print(\"===============================Laplace smoothing for cipher2===============================\")\n",
    "trainer = hmm.HiddenMarkovModelTrainer()\n",
    "tagger2 = trainer.train_supervised(train_data2,estimator=LaplaceProbDist)\n",
    "predc2 = tagger2.best_path_simple(test_cipher2)\n",
    "eval(predc2, test_plain2) "
   ]
  },
  {
   "cell_type": "code",
   "execution_count": 18,
   "metadata": {},
   "outputs": [
    {
     "name": "stdout",
     "output_type": "stream",
     "text": [
      "===============================Laplace smoothing for cipher3===============================\n",
      "s ind thed thar thly perely pecir candorreve aly pen thely t ouis tofainguinthed thed thed then thely t ous ped s the th aluindare, ouinthen on pathed tis tofand whe, flve oflind thed thar the abere herererrespe then thely t ous ped s, ang touive ther.tocin ountherind thed tis tomig herrelind aby ouinthuind the aly a, o the farouind s ar thely cingungutherind the angsqungs.th, fo thes. f at aby squcatorind t s, hend ier the farouind s ar thely cang fouirelicinghend s thtis tomily arely alin thely he and angur athely ate the tangsquthes, aly lis tof and anthe s. allive amperely aluthely s.t ath.the the than there, aterings, terin, the alid ind ther aly s and he the whe the thend fe, allive the fousqured ther aly s aluthe athe the than the fare the tha, s arend ound the sqund hicly ousquin thespengumicanghered armar s, arely ar ouirer athican the the ouind is atouire in nd fouma. s the, s.t cin thuinghathathe here f thisqud aly sphellinluind is.d anghan fore s the heciclin thuing athe thin thuincaththere the clind thirel. angud sthind torerouind on iround parr pely ar ave ffaly thely s, athed amarely the asqut arounthipe ande and thes.cthe\n",
      "0.2077922077922078\n"
     ]
    }
   ],
   "source": [
    "print(\"===============================Laplace smoothing for cipher3===============================\")\n",
    "trainer = hmm.HiddenMarkovModelTrainer()\n",
    "tagger3 = trainer.train_supervised(train_data3,estimator=LaplaceProbDist)\n",
    "predc3 = tagger3.best_path_simple(test_cipher3)\n",
    "eval(predc3, test_plain3)"
   ]
  },
  {
   "cell_type": "markdown",
   "metadata": {},
   "source": [
    "Add extend data for Improved plaintext modelling"
   ]
  },
  {
   "cell_type": "code",
   "execution_count": 20,
   "metadata": {},
   "outputs": [],
   "source": [
    "#define subclass from hmm.HiddenMarkovModelTrainer\n",
    "class MyHmmTrainer(hmm.HiddenMarkovModelTrainer):\n",
    "\n",
    "    def train_supervised(self, labelled_sequences,data, estimator=None):\n",
    "        _TEXT = 0  # index of text in a tuple\n",
    "        _TAG = 1  # index of tag in a tuple\n",
    "        # default to the MLE estimate\n",
    "        if estimator is None:\n",
    "            estimator = lambda fdist, bins: MLEProbDist(fdist)\n",
    "\n",
    "        # count occurrences of starting states, transitions out of each state\n",
    "        # and output symbols observed in each state\n",
    "        known_symbols = set(self._symbols)\n",
    "        known_states = set(self._states)\n",
    "\n",
    "        starting = FreqDist()\n",
    "        transitions = ConditionalFreqDist()\n",
    "        outputs = ConditionalFreqDist()\n",
    "        for sequence in labelled_sequences:\n",
    "            lasts = None\n",
    "            for token in sequence:\n",
    "                state = token[_TAG]\n",
    "                symbol = token[_TEXT]\n",
    "                if lasts is None:\n",
    "                    starting[state] += 1\n",
    "                else:\n",
    "                    transitions[lasts][state] += 1\n",
    "                outputs[state][symbol] += 1\n",
    "                lasts = state\n",
    "                \n",
    "        for sequence in data:\n",
    "            lasts = None\n",
    "            for token in sequence:\n",
    "                state = token[_TAG]\n",
    "                symbol = token[_TEXT]\n",
    "                if lasts is None:\n",
    "                    starting[state] += 1\n",
    "                else:\n",
    "                    transitions[lasts][state] += 1\n",
    "                #outputs[state][symbol] += 1\n",
    "                lasts = state\n",
    "\n",
    "                # update the state and symbol lists\n",
    "                if state not in known_states:\n",
    "                    self._states.append(state)\n",
    "                    known_states.add(state)\n",
    "\n",
    "                if symbol not in known_symbols:\n",
    "                    self._symbols.append(symbol)\n",
    "                    known_symbols.add(symbol)\n",
    "\n",
    "        # create probability distributions (with smoothing)\n",
    "        N = len(self._states)\n",
    "        pi = estimator(starting, N)\n",
    "        A = ConditionalProbDist(transitions, estimator, N)\n",
    "        B = ConditionalProbDist(outputs, estimator, len(self._symbols))\n",
    "\n",
    "        return hmm.HiddenMarkovModelTagger(self._symbols, self._states, A, B, pi)\n",
    "\n"
   ]
  },
  {
   "cell_type": "code",
   "execution_count": 21,
   "metadata": {},
   "outputs": [
    {
     "name": "stdout",
     "output_type": "stream",
     "text": [
      "========================Improved plaintext modelling for cipher===========================\n",
      "a hidden markov model is one in which you observe a sequence of emissionso but do not know the sequence of states the model went through to generate the emissions.analyses of hidden markov models seek to recover the sequence of states from the observed data.you determine the emission from a state by rolling the die with the same color as the state. you determine the transition to the next state by flipping the coin with the same color as the state.the following takes the emission and state sequences and returns estimates of the transition and emission matrices. amaica is an island country situated in the caribbean seao consisting of the third largest island of the greater antilles. amaica is the fourth largest island country in the caribbeano by area.the planned route for the caisse de depots light rail system for montreal and suburbs will require the expropriation of up to thirty homes.two buildings that had been earmarked for possible expropriationo namely the rodier building and the building that house the new city gas clubo will be preserved.dinu bumbaru of heritage montreal was pleased to hear the historic structures would be saved.\n",
      "0.9939393939393939\n"
     ]
    }
   ],
   "source": [
    "print(\"========================Improved plaintext modelling for cipher1===========================\")\n",
    "t = MyHmmTrainer()\n",
    "tagger1 = t.train_supervised(train_data1,data)\n",
    "predc1 = tagger1.best_path_simple(test_cipher1)\n",
    "eval(predc1, test_plain1)"
   ]
  },
  {
   "cell_type": "code",
   "execution_count": 23,
   "metadata": {},
   "outputs": [
    {
     "name": "stdout",
     "output_type": "stream",
     "text": [
      "========================Improved plaintext modelling for cipher2===========================\n",
      "h hiaden markou model is one in which w t oveerve d sertence of emicefonsm but d on t ngow the sequence of stales the m del went taroung to henerate the emiesions.analyses of hidden markou y dels seex to recover the sertence of sthtes from the oeserved daladmot determine the emission from d state by r lling the aie with the same cotor as the sthts. y t astermine the transition to the next stale by itipping the p in with the same cotor as the sthts.the following takes the emission and sthte sertences and returke estimales of the trancition and byiesion matrices. amaica is anoisland cotntrmosittated in thsosaribbbanossa  consistinnooiothbothira tarnbstoistand oiotab nrsatbroantittbsq amaica isotas iourthotarnsstoistana cotntrw inothb saribbban  bm arbadthsowtannsa rottboior ths saissb ds abcots linhtorait swstsm ior montrbaloand stburbs witl rbrtirs ths ekwrowriation oi uwoto thirtmohomssdtwoobtildinhs that aad bbsnobarmarnbaoiorowossibtboskcrowriationm nambtm tasorodisrobuitainn anaotabobtitdinh taat houssothbonbwocitw has stubm witt bs wrsssrusa.aintobtmbart oi abritahbomontrsatowas wlsassdoto asar ths historis strusturbs woutdobb saubad\n",
      "0.7731601731601732\n"
     ]
    }
   ],
   "source": [
    "print(\"========================Improved plaintext modelling for cipher2===========================\")\n",
    "t = MyHmmTrainer()\n",
    "tagger2 = t.train_supervised(train_data2,data)\n",
    "predc2 = tagger2.best_path_simple(test_cipher2)\n",
    "eval(predc2, test_plain2)"
   ]
  },
  {
   "cell_type": "code",
   "execution_count": 24,
   "metadata": {},
   "outputs": [
    {
     "name": "stdout",
     "output_type": "stream",
     "text": [
      "========================Improved plaintext modelling for cipher3===========================\n",
      "e tit thas thas thank by on peciexcan onkeve bon cof t by t pe is tomainge nke t thed thed then t by te thay nd s the th ay inkaren n mppre nkn pathed tis tomang whes che ponk it thas thas the as ce mprererere t then t by te thay nd whe ng thicof thed torincore toff tithed tis tofig ouroullay as pe arer iof think it ithethe bare tre s the s ay ct n pre toff tithe arang pastionk n thes. f ay as prsicat ncof t fichend ithethe bare tre s the s ay cofithed chin inst nd s t tis tofily areay ay n t by che anktinke nkthelit te the tarang pastily walis tof and anks pr. bllive by by by ald che tind bur. it the than theres at fingere frin the talid ing ther aly s and the nk whe the thenk ffoulllive thethe thared ther aly s ald che the the than the mare the thal thached nd toure mere thicof nd sthe thenkenkelicanghered armas ff by ar as n arexpathin n the thethinke is at tice in nke n man s t therst win thes thathathe tere n t idenked nksthellin tind is atonghan core s the hes ilin th ing athe thin the thathequre the s ing tathecof nked sthind toreron ng of ithers patherexppexpave ff by blllllly athed ange thed ilasind and nd t t an qurid thes.sthi\n",
      "0.20346320346320346\n"
     ]
    }
   ],
   "source": [
    "print(\"========================Improved plaintext modelling for cipher3===========================\")\n",
    "t = MyHmmTrainer()\n",
    "tagger3 = t.train_supervised(train_data3,data)\n",
    "predc3 = tagger3.best_path_simple(test_cipher3)\n",
    "eval(predc3, test_plain3)"
   ]
  },
  {
   "cell_type": "code",
   "execution_count": null,
   "metadata": {},
   "outputs": [],
   "source": []
  },
  {
   "cell_type": "code",
   "execution_count": null,
   "metadata": {},
   "outputs": [],
   "source": []
  },
  {
   "cell_type": "code",
   "execution_count": null,
   "metadata": {},
   "outputs": [],
   "source": []
  }
 ],
 "metadata": {
  "kernelspec": {
   "display_name": "Python 3",
   "language": "python",
   "name": "python3"
  },
  "language_info": {
   "codemirror_mode": {
    "name": "ipython",
    "version": 3
   },
   "file_extension": ".py",
   "mimetype": "text/x-python",
   "name": "python",
   "nbconvert_exporter": "python",
   "pygments_lexer": "ipython3",
   "version": "3.7.3"
  }
 },
 "nbformat": 4,
 "nbformat_minor": 2
}
